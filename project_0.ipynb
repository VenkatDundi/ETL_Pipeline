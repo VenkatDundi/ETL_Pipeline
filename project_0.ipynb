{
 "cells": [
  {
   "cell_type": "code",
   "execution_count": null,
   "metadata": {},
   "outputs": [],
   "source": []
  }
 ],
 "metadata": {
  "kernelspec": {
   "display_name": "Python 3",
   "language": "python",
   "name": "python3"
  },
  "language_info": {
   "name": "python",
   "version": "3.11.1"
  },
  "orig_nbformat": 4,
  "vscode": {
   "interpreter": {
    "hash": "951027aff302082d778e6f26f1009ab455657b08e05d86b2ac31807f58dd3802"
   }
  }
 },
 "nbformat": 4,
 "nbformat_minor": 2
}
